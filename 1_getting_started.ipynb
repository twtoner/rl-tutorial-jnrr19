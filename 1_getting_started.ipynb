{
  "cells": [
    {
      "cell_type": "markdown",
      "metadata": {
        "colab_type": "text",
        "id": "view-in-github"
      },
      "source": [
        "<a href=\"https://colab.research.google.com/github/araffin/rl-tutorial-jnrr19/blob/sb3/1_getting_started.ipynb\" target=\"_parent\"><img src=\"https://colab.research.google.com/assets/colab-badge.svg\" alt=\"Open In Colab\"/></a>"
      ]
    },
    {
      "cell_type": "markdown",
      "metadata": {
        "colab_type": "text",
        "id": "hyyN-2qyK_T2"
      },
      "source": [
        "# Stable Baselines3 Tutorial - Getting Started\n",
        "\n",
        "Github repo: https://github.com/araffin/rl-tutorial-jnrr19/tree/sb3/\n",
        "\n",
        "Stable-Baselines3: https://github.com/DLR-RM/stable-baselines3\n",
        "\n",
        "Documentation: https://stable-baselines3.readthedocs.io/en/master/\n",
        "\n",
        "RL Baselines3 zoo: https://github.com/DLR-RM/rl-baselines3-zoo\n",
        "\n",
        "[RL Baselines3 Zoo](https://github.com/DLR-RM/rl-baselines3-zoo) is a collection of pre-trained Reinforcement Learning agents using Stable-Baselines3.\n",
        "\n",
        "It also provides basic scripts for training, evaluating agents, tuning hyperparameters and recording videos.\n",
        "\n",
        "\n",
        "## Introduction\n",
        "\n",
        "In this notebook, you will learn the basics for using stable baselines library: how to create a RL model, train it and evaluate it. Because all algorithms share the same interface, we will see how simple it is to switch from one algorithm to another.\n",
        "\n",
        "\n",
        "## Install Dependencies and Stable Baselines3 Using Pip\n",
        "\n",
        "List of full dependencies can be found in the [README](https://github.com/DLR-RM/stable-baselines3).\n",
        "\n",
        "\n",
        "```\n",
        "pip install stable-baselines3[extra]\n",
        "```"
      ]
    },
    {
      "cell_type": "code",
      "execution_count": 14,
      "metadata": {
        "colab": {
          "base_uri": "https://localhost:8080/",
          "height": 784
        },
        "colab_type": "code",
        "id": "gWskDE2c9WoN",
        "outputId": "03477445-4249-49c3-ddba-4e12df09e98e"
      },
      "outputs": [
        {
          "name": "stdout",
          "output_type": "stream",
          "text": [
            "E: Could not open lock file /var/lib/dpkg/lock-frontend - open (13: Permission denied)\n",
            "E: Unable to acquire the dpkg frontend lock (/var/lib/dpkg/lock-frontend), are you root?\n",
            "/home/twtoner/.local/lib/python3.8/site-packages/pkg_resources/__init__.py:116: PkgResourcesDeprecationWarning: 0.1.36ubuntu1 is an invalid version and will not be supported in a future release\n",
            "  warnings.warn(\n",
            "/home/twtoner/.local/lib/python3.8/site-packages/pkg_resources/__init__.py:116: PkgResourcesDeprecationWarning: 2.1.2pop0-1587756471-20.04-cd2988e is an invalid version and will not be supported in a future release\n",
            "  warnings.warn(\n",
            "/home/twtoner/.local/lib/python3.8/site-packages/pkg_resources/__init__.py:116: PkgResourcesDeprecationWarning: 1.13.1-unknown is an invalid version and will not be supported in a future release\n",
            "  warnings.warn(\n",
            "Requirement already satisfied: stable-baselines3[extra] in /home/twtoner/.local/lib/python3.8/site-packages (1.7.0)\n",
            "Requirement already satisfied: matplotlib in /home/twtoner/.local/lib/python3.8/site-packages (from stable-baselines3[extra]) (3.5.1)\n",
            "Requirement already satisfied: numpy in /home/twtoner/.local/lib/python3.8/site-packages (from stable-baselines3[extra]) (1.23.3)\n",
            "Requirement already satisfied: cloudpickle in /home/twtoner/.local/lib/python3.8/site-packages (from stable-baselines3[extra]) (2.2.0)\n",
            "Requirement already satisfied: pandas in /usr/lib/python3/dist-packages (from stable-baselines3[extra]) (0.25.3)\n",
            "Requirement already satisfied: torch>=1.11 in /home/twtoner/.local/lib/python3.8/site-packages (from stable-baselines3[extra]) (1.11.0+cu113)\n",
            "Requirement already satisfied: gym==0.21 in /home/twtoner/.local/lib/python3.8/site-packages (from stable-baselines3[extra]) (0.21.0)\n",
            "Requirement already satisfied: importlib-metadata~=4.13 in /home/twtoner/.local/lib/python3.8/site-packages (from stable-baselines3[extra]) (4.13.0)\n",
            "Requirement already satisfied: tensorboard>=2.9.1; extra == \"extra\" in /home/twtoner/.local/lib/python3.8/site-packages (from stable-baselines3[extra]) (2.11.0)\n",
            "Requirement already satisfied: pillow; extra == \"extra\" in /home/twtoner/.local/lib/python3.8/site-packages (from stable-baselines3[extra]) (9.2.0)\n",
            "Requirement already satisfied: ale-py==0.7.4; extra == \"extra\" in /home/twtoner/.local/lib/python3.8/site-packages (from stable-baselines3[extra]) (0.7.4)\n",
            "Requirement already satisfied: rich; extra == \"extra\" in /home/twtoner/.local/lib/python3.8/site-packages (from stable-baselines3[extra]) (13.0.1)\n",
            "Requirement already satisfied: autorom[accept-rom-license]~=0.4.2; extra == \"extra\" in /home/twtoner/.local/lib/python3.8/site-packages (from stable-baselines3[extra]) (0.4.2)\n",
            "Requirement already satisfied: opencv-python; extra == \"extra\" in /home/twtoner/.local/lib/python3.8/site-packages (from stable-baselines3[extra]) (4.7.0.68)\n",
            "Requirement already satisfied: tqdm; extra == \"extra\" in /home/twtoner/.local/lib/python3.8/site-packages (from stable-baselines3[extra]) (4.64.0)\n",
            "Requirement already satisfied: psutil; extra == \"extra\" in /home/twtoner/.local/lib/python3.8/site-packages (from stable-baselines3[extra]) (5.9.0)\n",
            "Requirement already satisfied: fonttools>=4.22.0 in /home/twtoner/.local/lib/python3.8/site-packages (from matplotlib->stable-baselines3[extra]) (4.32.0)\n",
            "Requirement already satisfied: kiwisolver>=1.0.1 in /usr/lib/python3/dist-packages (from matplotlib->stable-baselines3[extra]) (1.0.1)\n",
            "Requirement already satisfied: pyparsing>=2.2.1 in /usr/lib/python3/dist-packages (from matplotlib->stable-baselines3[extra]) (2.4.6)\n",
            "Requirement already satisfied: python-dateutil>=2.7 in /home/twtoner/.local/lib/python3.8/site-packages (from matplotlib->stable-baselines3[extra]) (2.8.2)\n",
            "Requirement already satisfied: packaging>=20.0 in /home/twtoner/.local/lib/python3.8/site-packages (from matplotlib->stable-baselines3[extra]) (21.3)\n",
            "Requirement already satisfied: cycler>=0.10 in /usr/lib/python3/dist-packages (from matplotlib->stable-baselines3[extra]) (0.10.0)\n",
            "Requirement already satisfied: typing-extensions in /home/twtoner/.local/lib/python3.8/site-packages (from torch>=1.11->stable-baselines3[extra]) (4.4.0)\n",
            "Requirement already satisfied: zipp>=0.5 in /home/twtoner/.local/lib/python3.8/site-packages (from importlib-metadata~=4.13->stable-baselines3[extra]) (3.8.1)\n",
            "Requirement already satisfied: protobuf<4,>=3.9.2 in /home/twtoner/.local/lib/python3.8/site-packages (from tensorboard>=2.9.1; extra == \"extra\"->stable-baselines3[extra]) (3.20.3)\n",
            "Requirement already satisfied: tensorboard-data-server<0.7.0,>=0.6.0 in /home/twtoner/.local/lib/python3.8/site-packages (from tensorboard>=2.9.1; extra == \"extra\"->stable-baselines3[extra]) (0.6.1)\n",
            "Requirement already satisfied: wheel>=0.26 in /usr/lib/python3/dist-packages (from tensorboard>=2.9.1; extra == \"extra\"->stable-baselines3[extra]) (0.34.2)\n",
            "Requirement already satisfied: grpcio>=1.24.3 in /home/twtoner/.local/lib/python3.8/site-packages (from tensorboard>=2.9.1; extra == \"extra\"->stable-baselines3[extra]) (1.51.1)\n",
            "Requirement already satisfied: absl-py>=0.4 in /home/twtoner/.local/lib/python3.8/site-packages (from tensorboard>=2.9.1; extra == \"extra\"->stable-baselines3[extra]) (1.4.0)\n",
            "Requirement already satisfied: markdown>=2.6.8 in /home/twtoner/.local/lib/python3.8/site-packages (from tensorboard>=2.9.1; extra == \"extra\"->stable-baselines3[extra]) (3.4.1)\n",
            "Requirement already satisfied: requests<3,>=2.21.0 in /usr/lib/python3/dist-packages (from tensorboard>=2.9.1; extra == \"extra\"->stable-baselines3[extra]) (2.22.0)\n",
            "Requirement already satisfied: werkzeug>=1.0.1 in /home/twtoner/.local/lib/python3.8/site-packages (from tensorboard>=2.9.1; extra == \"extra\"->stable-baselines3[extra]) (2.2.2)\n",
            "Requirement already satisfied: google-auth-oauthlib<0.5,>=0.4.1 in /home/twtoner/.local/lib/python3.8/site-packages (from tensorboard>=2.9.1; extra == \"extra\"->stable-baselines3[extra]) (0.4.6)\n",
            "Requirement already satisfied: setuptools>=41.0.0 in /home/twtoner/.local/lib/python3.8/site-packages (from tensorboard>=2.9.1; extra == \"extra\"->stable-baselines3[extra]) (59.8.0)\n",
            "Requirement already satisfied: google-auth<3,>=1.6.3 in /home/twtoner/.local/lib/python3.8/site-packages (from tensorboard>=2.9.1; extra == \"extra\"->stable-baselines3[extra]) (2.16.0)\n",
            "Requirement already satisfied: tensorboard-plugin-wit>=1.6.0 in /home/twtoner/.local/lib/python3.8/site-packages (from tensorboard>=2.9.1; extra == \"extra\"->stable-baselines3[extra]) (1.8.1)\n",
            "Requirement already satisfied: importlib-resources in /home/twtoner/.local/lib/python3.8/site-packages (from ale-py==0.7.4; extra == \"extra\"->stable-baselines3[extra]) (5.9.0)\n",
            "Requirement already satisfied: pygments<3.0.0,>=2.6.0 in /home/twtoner/.local/lib/python3.8/site-packages (from rich; extra == \"extra\"->stable-baselines3[extra]) (2.11.2)\n",
            "Requirement already satisfied: commonmark<0.10.0,>=0.9.0 in /home/twtoner/.local/lib/python3.8/site-packages (from rich; extra == \"extra\"->stable-baselines3[extra]) (0.9.1)\n",
            "Requirement already satisfied: click in /usr/lib/python3/dist-packages (from autorom[accept-rom-license]~=0.4.2; extra == \"extra\"->stable-baselines3[extra]) (7.0)\n",
            "Requirement already satisfied: AutoROM.accept-rom-license; extra == \"accept-rom-license\" in /home/twtoner/.local/lib/python3.8/site-packages (from autorom[accept-rom-license]~=0.4.2; extra == \"extra\"->stable-baselines3[extra]) (0.5.0)\n",
            "Requirement already satisfied: six>=1.5 in /home/twtoner/.local/lib/python3.8/site-packages (from python-dateutil>=2.7->matplotlib->stable-baselines3[extra]) (1.16.0)\n",
            "Requirement already satisfied: MarkupSafe>=2.1.1 in /home/twtoner/.local/lib/python3.8/site-packages (from werkzeug>=1.0.1->tensorboard>=2.9.1; extra == \"extra\"->stable-baselines3[extra]) (2.1.1)\n",
            "Requirement already satisfied: requests-oauthlib>=0.7.0 in /home/twtoner/.local/lib/python3.8/site-packages (from google-auth-oauthlib<0.5,>=0.4.1->tensorboard>=2.9.1; extra == \"extra\"->stable-baselines3[extra]) (1.3.1)\n",
            "Requirement already satisfied: pyasn1-modules>=0.2.1 in /usr/lib/python3/dist-packages (from google-auth<3,>=1.6.3->tensorboard>=2.9.1; extra == \"extra\"->stable-baselines3[extra]) (0.2.1)\n",
            "Requirement already satisfied: rsa<5,>=3.1.4; python_version >= \"3.6\" in /home/twtoner/.local/lib/python3.8/site-packages (from google-auth<3,>=1.6.3->tensorboard>=2.9.1; extra == \"extra\"->stable-baselines3[extra]) (4.9)\n",
            "Requirement already satisfied: cachetools<6.0,>=2.0.0 in /home/twtoner/.local/lib/python3.8/site-packages (from google-auth<3,>=1.6.3->tensorboard>=2.9.1; extra == \"extra\"->stable-baselines3[extra]) (5.2.1)\n",
            "Requirement already satisfied: libtorrent in /home/twtoner/.local/lib/python3.8/site-packages (from AutoROM.accept-rom-license; extra == \"accept-rom-license\"->autorom[accept-rom-license]~=0.4.2; extra == \"extra\"->stable-baselines3[extra]) (2.0.7)\n",
            "Requirement already satisfied: oauthlib>=3.0.0 in /usr/lib/python3/dist-packages (from requests-oauthlib>=0.7.0->google-auth-oauthlib<0.5,>=0.4.1->tensorboard>=2.9.1; extra == \"extra\"->stable-baselines3[extra]) (3.1.0)\n",
            "Requirement already satisfied: pyasn1>=0.1.3 in /usr/lib/python3/dist-packages (from rsa<5,>=3.1.4; python_version >= \"3.6\"->google-auth<3,>=1.6.3->tensorboard>=2.9.1; extra == \"extra\"->stable-baselines3[extra]) (0.4.2)\n",
            "/home/twtoner/.local/lib/python3.8/site-packages/pkg_resources/__init__.py:116: PkgResourcesDeprecationWarning: 0.1.36ubuntu1 is an invalid version and will not be supported in a future release\n",
            "  warnings.warn(\n",
            "/home/twtoner/.local/lib/python3.8/site-packages/pkg_resources/__init__.py:116: PkgResourcesDeprecationWarning: 2.1.2pop0-1587756471-20.04-cd2988e is an invalid version and will not be supported in a future release\n",
            "  warnings.warn(\n",
            "/home/twtoner/.local/lib/python3.8/site-packages/pkg_resources/__init__.py:116: PkgResourcesDeprecationWarning: 1.13.1-unknown is an invalid version and will not be supported in a future release\n",
            "  warnings.warn(\n",
            "Requirement already satisfied: pyglet==1.4 in /home/twtoner/.local/lib/python3.8/site-packages (1.4.0)\n",
            "Requirement already satisfied: future in /usr/lib/python3/dist-packages (from pyglet==1.4) (0.18.2)\n"
          ]
        }
      ],
      "source": [
        "!apt-get install ffmpeg freeglut3-dev xvfb  # For visualization\n",
        "!pip install stable-baselines3[extra]\n",
        "!pip install pyglet==1.4"
      ]
    },
    {
      "cell_type": "markdown",
      "metadata": {
        "colab_type": "text",
        "id": "FtY8FhliLsGm"
      },
      "source": [
        "## Imports"
      ]
    },
    {
      "cell_type": "markdown",
      "metadata": {
        "colab_type": "text",
        "id": "gcX8hEcaUpR0"
      },
      "source": [
        "Stable-Baselines3 works on environments that follow the [gym interface](https://stable-baselines3.readthedocs.io/en/master/guide/custom_env.html).\n",
        "You can find a list of available environment [here](https://gym.openai.com/envs/#classic_control).\n",
        "\n",
        "It is also recommended to check the [source code](https://github.com/openai/gym) to learn more about the observation and action space of each env, as gym does not have a proper documentation.\n",
        "Not all algorithms can work with all action spaces, you can find more in this [recap table](https://stable-baselines3.readthedocs.io/en/master/guide/algos.html)"
      ]
    },
    {
      "cell_type": "code",
      "execution_count": 15,
      "metadata": {
        "colab": {},
        "colab_type": "code",
        "id": "BIedd7Pz9sOs"
      },
      "outputs": [],
      "source": [
        "import gym\n",
        "import numpy as np"
      ]
    },
    {
      "cell_type": "markdown",
      "metadata": {
        "colab_type": "text",
        "id": "Ae32CtgzTG3R"
      },
      "source": [
        "The first thing you need to import is the RL model, check the documentation to know what you can use on which problem"
      ]
    },
    {
      "cell_type": "code",
      "execution_count": 16,
      "metadata": {
        "colab": {},
        "colab_type": "code",
        "id": "R7tKaBFrTR0a"
      },
      "outputs": [],
      "source": [
        "from stable_baselines3 import PPO"
      ]
    },
    {
      "cell_type": "markdown",
      "metadata": {
        "colab_type": "text",
        "id": "-0_8OQbOTTNT"
      },
      "source": [
        "The next thing you need to import is the policy class that will be used to create the networks (for the policy/value functions).\n",
        "This step is optional as you can directly use strings in the constructor: \n",
        "\n",
        "```PPO('MlpPolicy', env)``` instead of ```PPO(MlpPolicy, env)```\n",
        "\n",
        "Note that some algorithms like `SAC` have their own `MlpPolicy`, that's why using string for the policy is the recommened option."
      ]
    },
    {
      "cell_type": "code",
      "execution_count": 17,
      "metadata": {
        "colab": {},
        "colab_type": "code",
        "id": "ROUJr675TT01"
      },
      "outputs": [],
      "source": [
        "from stable_baselines3.ppo.policies import MlpPolicy"
      ]
    },
    {
      "cell_type": "markdown",
      "metadata": {
        "colab_type": "text",
        "id": "RapkYvTXL7Cd"
      },
      "source": [
        "## Create the Gym env and instantiate the agent\n",
        "\n",
        "For this example, we will use CartPole environment, a classic control problem.\n",
        "\n",
        "\"A pole is attached by an un-actuated joint to a cart, which moves along a frictionless track. The system is controlled by applying a force of +1 or -1 to the cart. The pendulum starts upright, and the goal is to prevent it from falling over. A reward of +1 is provided for every timestep that the pole remains upright. \"\n",
        "\n",
        "Cartpole environment: [https://www.gymlibrary.dev/environments/classic_control/cart_pole/](https://www.gymlibrary.dev/environments/classic_control/cart_pole/)\n",
        "\n",
        "![Cartpole](https://cdn-images-1.medium.com/max/1143/1*h4WTQNVIsvMXJTCpXm_TAw.gif)\n",
        "\n",
        "\n",
        "We chose the MlpPolicy because the observation of the CartPole task is a feature vector, not images.\n",
        "\n",
        "The type of action to use (discrete/continuous) will be automatically deduced from the environment action space\n",
        "\n",
        "Here we are using the [Proximal Policy Optimization](https://stable-baselines3.readthedocs.io/en/master/modules/ppo.html) algorithm, which is an Actor-Critic method: it uses a value function to improve the policy gradient descent (by reducing the variance).\n",
        "\n",
        "It combines ideas from [A2C](https://stable-baselines3.readthedocs.io/en/master/modules/a2c.html) (having multiple workers and using an entropy bonus for exploration) and [TRPO](https://stable-baselines.readthedocs.io/en/master/modules/trpo.html) (it uses a trust region to improve stability and avoid catastrophic drops in performance).\n",
        "\n",
        "PPO is an on-policy algorithm, which means that the trajectories used to update the networks must be collected using the latest policy.\n",
        "It is usually less sample efficient than off-policy alorithms like [DQN](https://stable-baselines.readthedocs.io/en/master/modules/dqn.html), [SAC](https://stable-baselines3.readthedocs.io/en/master/modules/sac.html) or [TD3](https://stable-baselines3.readthedocs.io/en/master/modules/td3.html), but is much faster regarding wall-clock time.\n"
      ]
    },
    {
      "cell_type": "code",
      "execution_count": 18,
      "metadata": {
        "colab": {},
        "colab_type": "code",
        "id": "pUWGZp3i9wyf"
      },
      "outputs": [],
      "source": [
        "env = gym.make('CartPole-v1')\n",
        "\n",
        "model = PPO(MlpPolicy, env, verbose=0)"
      ]
    },
    {
      "cell_type": "markdown",
      "metadata": {
        "colab_type": "text",
        "id": "4efFdrQ7MBvl"
      },
      "source": [
        "We create a helper function to evaluate the agent:"
      ]
    },
    {
      "cell_type": "code",
      "execution_count": 19,
      "metadata": {
        "colab": {},
        "colab_type": "code",
        "id": "63M8mSKR-6Zt"
      },
      "outputs": [],
      "source": [
        "def evaluate(model, num_episodes=100):\n",
        "    \"\"\"\n",
        "    Evaluate a RL agent\n",
        "    :param model: (BaseRLModel object) the RL Agent\n",
        "    :param num_episodes: (int) number of episodes to evaluate it\n",
        "    :return: (float) Mean reward for the last num_episodes\n",
        "    \"\"\"\n",
        "    # This function will only work for a single Environment\n",
        "    env = model.get_env()\n",
        "    all_episode_rewards = []\n",
        "    for i in range(num_episodes):\n",
        "        episode_rewards = []\n",
        "        done = False\n",
        "        obs = env.reset()\n",
        "        while not done:\n",
        "            # _states are only useful when using LSTM policies\n",
        "            action, _states = model.predict(obs)\n",
        "            # here, action, rewards and dones are arrays\n",
        "            # because we are using vectorized env\n",
        "            obs, reward, done, info = env.step(action)\n",
        "            episode_rewards.append(reward)\n",
        "\n",
        "        all_episode_rewards.append(sum(episode_rewards))\n",
        "\n",
        "    mean_episode_reward = np.mean(all_episode_rewards)\n",
        "    print(\"Mean reward:\", mean_episode_reward, \"Num episodes:\", num_episodes)\n",
        "\n",
        "    return mean_episode_reward"
      ]
    },
    {
      "cell_type": "markdown",
      "metadata": {
        "colab_type": "text",
        "id": "zjEVOIY8NVeK"
      },
      "source": [
        "Let's evaluate the un-trained agent, this should be a random agent."
      ]
    },
    {
      "cell_type": "code",
      "execution_count": 20,
      "metadata": {
        "colab": {
          "base_uri": "https://localhost:8080/",
          "height": 35
        },
        "colab_type": "code",
        "id": "xDHLMA6NFk95",
        "outputId": "231b2170-a607-48ed-e9d9-daef596f6384"
      },
      "outputs": [
        {
          "name": "stdout",
          "output_type": "stream",
          "text": [
            "Mean reward: 23.63 Num episodes: 100\n"
          ]
        }
      ],
      "source": [
        "# Random Agent, before training\n",
        "mean_reward_before_train = evaluate(model, num_episodes=100)"
      ]
    },
    {
      "cell_type": "markdown",
      "metadata": {
        "colab_type": "text",
        "id": "QjjPxrwkYJ2i"
      },
      "source": [
        "Stable-Baselines already provides you with that helper:"
      ]
    },
    {
      "cell_type": "code",
      "execution_count": 21,
      "metadata": {
        "colab": {},
        "colab_type": "code",
        "id": "8z6K9YImYJEx"
      },
      "outputs": [],
      "source": [
        "from stable_baselines3.common.evaluation import evaluate_policy"
      ]
    },
    {
      "cell_type": "code",
      "execution_count": 25,
      "metadata": {
        "colab": {},
        "colab_type": "code",
        "id": "4oPTHjxyZSOL"
      },
      "outputs": [
        {
          "name": "stdout",
          "output_type": "stream",
          "text": [
            "mean_reward:9.04 +/- 0.72\n"
          ]
        }
      ],
      "source": [
        "mean_reward, std_reward = evaluate_policy(model, env, n_eval_episodes=100)\n",
        "\n",
        "print(f\"mean_reward:{mean_reward:.2f} +/- {std_reward:.2f}\")"
      ]
    },
    {
      "cell_type": "markdown",
      "metadata": {
        "colab_type": "text",
        "id": "r5UoXTZPNdFE"
      },
      "source": [
        "## Train the agent and evaluate it"
      ]
    },
    {
      "cell_type": "code",
      "execution_count": 26,
      "metadata": {
        "colab": {},
        "colab_type": "code",
        "id": "e4cfSXIB-pTF"
      },
      "outputs": [
        {
          "data": {
            "text/plain": [
              "<stable_baselines3.ppo.ppo.PPO at 0x7fd0a00c9ee0>"
            ]
          },
          "execution_count": 26,
          "metadata": {},
          "output_type": "execute_result"
        }
      ],
      "source": [
        "# Train the agent for 10000 steps\n",
        "model.learn(total_timesteps=10000)"
      ]
    },
    {
      "cell_type": "code",
      "execution_count": 27,
      "metadata": {
        "colab": {},
        "colab_type": "code",
        "id": "ygl_gVmV_QP7"
      },
      "outputs": [
        {
          "name": "stdout",
          "output_type": "stream",
          "text": [
            "mean_reward:233.00 +/- 81.38\n"
          ]
        }
      ],
      "source": [
        "# Evaluate the trained agent\n",
        "mean_reward, std_reward = evaluate_policy(model, env, n_eval_episodes=100)\n",
        "\n",
        "print(f\"mean_reward:{mean_reward:.2f} +/- {std_reward:.2f}\")"
      ]
    },
    {
      "cell_type": "markdown",
      "metadata": {
        "colab_type": "text",
        "id": "A00W6yY3NkHG"
      },
      "source": [
        "Apparently the training went well, the mean reward increased a lot ! "
      ]
    },
    {
      "cell_type": "markdown",
      "metadata": {
        "colab_type": "text",
        "id": "xVm9QPNVwKXN"
      },
      "source": [
        "### Prepare video recording"
      ]
    },
    {
      "cell_type": "code",
      "execution_count": 28,
      "metadata": {
        "colab": {},
        "colab_type": "code",
        "id": "MPyfQxD5z26J"
      },
      "outputs": [
        {
          "name": "stderr",
          "output_type": "stream",
          "text": [
            "_XSERVTransSocketUNIXCreateListener: ...SocketCreateListener() failed\n",
            "_XSERVTransMakeAllCOTSServerListeners: server already running\n",
            "(EE) \n",
            "Fatal server error:\n",
            "(EE) Cannot establish any listening sockets - Make sure an X server isn't already running(EE) \n"
          ]
        }
      ],
      "source": [
        "# Set up fake display; otherwise rendering will fail\n",
        "import os\n",
        "# os.system(\"Xvfb :1 -screen 0 1024x768x24 &\")\n",
        "os.environ['DISPLAY'] = ':1'"
      ]
    },
    {
      "cell_type": "code",
      "execution_count": null,
      "metadata": {
        "colab": {},
        "colab_type": "code",
        "id": "SLzXxO8VMD6N"
      },
      "outputs": [],
      "source": [
        "import base64\n",
        "from pathlib import Path\n",
        "\n",
        "from IPython import display as ipythondisplay\n",
        "\n",
        "def show_videos(video_path='', prefix=''):\n",
        "  \"\"\"\n",
        "  Taken from https://github.com/eleurent/highway-env\n",
        "\n",
        "  :param video_path: (str) Path to the folder containing videos\n",
        "  :param prefix: (str) Filter the video, showing only the only starting with this prefix\n",
        "  \"\"\"\n",
        "  html = []\n",
        "  for mp4 in Path(video_path).glob(\"{}*.mp4\".format(prefix)):\n",
        "      video_b64 = base64.b64encode(mp4.read_bytes())\n",
        "      html.append('''<video alt=\"{}\" autoplay \n",
        "                    loop controls style=\"height: 400px;\">\n",
        "                    <source src=\"data:video/mp4;base64,{}\" type=\"video/mp4\" />\n",
        "                </video>'''.format(mp4, video_b64.decode('ascii')))\n",
        "  ipythondisplay.display(ipythondisplay.HTML(data=\"<br>\".join(html)))"
      ]
    },
    {
      "cell_type": "markdown",
      "metadata": {
        "colab_type": "text",
        "id": "LTRNUfulOGaF"
      },
      "source": [
        "We will record a video using the [VecVideoRecorder](https://stable-baselines3.readthedocs.io/en/master/guide/vec_envs.html#vecvideorecorder) wrapper, you will learn about those wrapper in the next notebook."
      ]
    },
    {
      "cell_type": "code",
      "execution_count": null,
      "metadata": {
        "colab": {},
        "colab_type": "code",
        "id": "Trag9dQpOIhx"
      },
      "outputs": [],
      "source": [
        "from stable_baselines3.common.vec_env import VecVideoRecorder, DummyVecEnv\n",
        "\n",
        "def record_video(env_id, model, video_length=500, prefix='', video_folder='videos/'):\n",
        "  \"\"\"\n",
        "  :param env_id: (str)\n",
        "  :param model: (RL model)\n",
        "  :param video_length: (int)\n",
        "  :param prefix: (str)\n",
        "  :param video_folder: (str)\n",
        "  \"\"\"\n",
        "  eval_env = DummyVecEnv([lambda: gym.make(env_id)])\n",
        "  # Start the video at step=0 and record 500 steps\n",
        "  eval_env = VecVideoRecorder(eval_env, video_folder=video_folder,\n",
        "                              record_video_trigger=lambda step: step == 0, video_length=video_length,\n",
        "                              name_prefix=prefix)\n",
        "\n",
        "  obs = eval_env.reset()\n",
        "  for _ in range(video_length):\n",
        "    action, _ = model.predict(obs)\n",
        "    obs, _, _, _ = eval_env.step(action)\n",
        "\n",
        "  # Close the video recorder\n",
        "  eval_env.close()"
      ]
    },
    {
      "cell_type": "markdown",
      "metadata": {
        "colab_type": "text",
        "id": "KOObbeu5MMlR"
      },
      "source": [
        "### Visualize trained agent\n",
        "\n"
      ]
    },
    {
      "cell_type": "code",
      "execution_count": 17,
      "metadata": {
        "colab": {
          "base_uri": "https://localhost:8080/",
          "height": 35
        },
        "colab_type": "code",
        "id": "iATu7AiyMQW2",
        "outputId": "68acb027-6c94-4389-8456-2cfb11494814"
      },
      "outputs": [
        {
          "name": "stdout",
          "output_type": "stream",
          "text": [
            "Saving video to  /content/videos/ppo-cartpole-step-0-to-step-500.mp4\n"
          ]
        }
      ],
      "source": [
        "record_video('CartPole-v1', model, video_length=500, prefix='ppo-cartpole')"
      ]
    },
    {
      "cell_type": "code",
      "execution_count": null,
      "metadata": {
        "colab": {},
        "colab_type": "code",
        "id": "-n4i-fW3NojZ"
      },
      "outputs": [],
      "source": [
        "show_videos('videos', prefix='ppo')"
      ]
    },
    {
      "cell_type": "markdown",
      "metadata": {
        "colab_type": "text",
        "id": "9Y8zg4V566qD"
      },
      "source": [
        "## Bonus: Train a RL Model in One Line\n",
        "\n",
        "The policy class to use will be inferred and the environment will be automatically created. This works because both are [registered](https://stable-baselines3.readthedocs.io/en/master/guide/quickstart.html)."
      ]
    },
    {
      "cell_type": "code",
      "execution_count": null,
      "metadata": {
        "colab": {},
        "colab_type": "code",
        "id": "iaOPfOrwWEP4"
      },
      "outputs": [],
      "source": [
        "model = PPO('MlpPolicy', \"CartPole-v1\", verbose=1).learn(1000)"
      ]
    },
    {
      "cell_type": "markdown",
      "metadata": {
        "colab_type": "text",
        "id": "FrI6f5fWnzp-"
      },
      "source": [
        "## Conclusion\n",
        "\n",
        "In this notebook we have seen:\n",
        "- how to define and train a RL model using stable baselines3, it takes only one line of code ;)"
      ]
    },
    {
      "cell_type": "code",
      "execution_count": null,
      "metadata": {
        "colab": {},
        "colab_type": "code",
        "id": "73ji3gbNDkf7"
      },
      "outputs": [],
      "source": []
    }
  ],
  "metadata": {
    "accelerator": "GPU",
    "colab": {
      "collapsed_sections": [],
      "include_colab_link": true,
      "name": "1_getting_started.ipynb",
      "provenance": []
    },
    "kernelspec": {
      "display_name": "Python 3.8.10 64-bit",
      "language": "python",
      "name": "python3"
    },
    "language_info": {
      "codemirror_mode": {
        "name": "ipython",
        "version": 3
      },
      "file_extension": ".py",
      "mimetype": "text/x-python",
      "name": "python",
      "nbconvert_exporter": "python",
      "pygments_lexer": "ipython3",
      "version": "3.8.10"
    },
    "vscode": {
      "interpreter": {
        "hash": "916dbcbb3f70747c44a77c7bcd40155683ae19c65e1c03b4aa3499c5328201f1"
      }
    }
  },
  "nbformat": 4,
  "nbformat_minor": 0
}
